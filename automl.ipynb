{
  "cells": [
    {
      "cell_type": "markdown",
      "source": [
        "# Automated ML\n",
        "\n",
        "TODO: Import Dependencies. In the cell below, import all the dependencies that you will need to complete the project."
      ],
      "metadata": {}
    },
    {
      "cell_type": "code",
      "source": [
        "\r\n",
        "import logging\r\n",
        "import os\r\n",
        "import csv\r\n",
        "\r\n",
        "from matplotlib import pyplot as plt\r\n",
        "import numpy as np\r\n",
        "import pandas as pd\r\n",
        "from sklearn import datasets\r\n",
        "import pkg_resources\r\n",
        "import azureml.core\r\n",
        "from azureml.core.experiment import Experiment\r\n",
        "from azureml.core.workspace import Workspace\r\n",
        "from azureml.train.automl import AutoMLConfig\r\n",
        "from azureml.core.dataset import Dataset\r\n",
        "\r\n",
        "from azureml.pipeline.steps import AutoMLStep\r\n",
        "# Check core SDK version number\r\n",
        "print(\"SDK version:\", azureml.core.VERSION)"
      ],
      "outputs": [
        {
          "output_type": "stream",
          "name": "stdout",
          "text": "SDK version: 1.43.0\n"
        }
      ],
      "execution_count": 1,
      "metadata": {
        "gather": {
          "logged": 1661014618883
        },
        "jupyter": {
          "outputs_hidden": false,
          "source_hidden": false
        },
        "nteract": {
          "transient": {
            "deleting": false
          }
        }
      }
    },
    {
      "cell_type": "markdown",
      "source": [
        "## Dataset\n",
        "\n",
        "### Overview\n",
        "TODO: In this markdown cell, give an overview of the dataset you are using. Also mention the task you will be performing.The dataset being used in this project is a dataset containing details of diabetes patients with many features that have been identified as indicators of diabetes. This is a classification project with the goal of using AutoML to be able to predict if someone has a possibility of having diabetes.\n",
        "\n",
        "TODO: Get data. In the cell below, write code to access the data you will be using in this project. Remember that the dataset needs to be external."
      ],
      "metadata": {}
    },
    {
      "cell_type": "code",
      "source": [
        "import azureml.core\n",
        "from azureml.core import Workspace, Experiment\n",
        "\n",
        "ws = Workspace.from_config()\n",
        "\n",
        "# choose a name for experiment\n",
        "experiment_name = 'diabetes-automl'\n",
        "project_folder = './training'\n",
        "\n",
        "experiment=Experiment(ws, experiment_name)\n",
        "\n",
        "print('Workspace name: ' + ws.name, \n",
        "      'Azure region: ' + ws.location, \n",
        "      'Subscription id: ' + ws.subscription_id, \n",
        "      'Resource group: ' + ws.resource_group, sep = '\\n')\n",
        "\n",
        "run = experiment.start_logging()"
      ],
      "outputs": [
        {
          "output_type": "stream",
          "name": "stdout",
          "text": "Workspace name: quick-starts-ws-204721\nAzure region: southcentralus\nSubscription id: cdbe0b43-92a0-4715-838a-f2648cc7ad21\nResource group: aml-quickstarts-204721\n"
        }
      ],
      "execution_count": 2,
      "metadata": {
        "gather": {
          "logged": 1661014623551
        },
        "jupyter": {
          "outputs_hidden": false,
          "source_hidden": false
        },
        "nteract": {
          "transient": {
            "deleting": false
          }
        }
      }
    },
    {
      "cell_type": "code",
      "source": [
        "from azureml.core.compute import ComputeTarget, AmlCompute\r\n",
        "from azureml.core.compute_target import ComputeTargetException\r\n",
        "\r\n",
        "cluster_name = \"your-compute-cluster\"\r\n",
        "\r\n",
        "try:\r\n",
        "    # Check for existing compute target\r\n",
        "    training_cluster = ComputeTarget(workspace=ws, name=cluster_name)\r\n",
        "    print('Found existing cluster, use it.')\r\n",
        "except ComputeTargetException:\r\n",
        "    # If it doesn't already exist, create it\r\n",
        "    try:\r\n",
        "        compute_config = AmlCompute.provisioning_configuration(vm_size='STANDARD_DS11_V2', max_nodes=2)\r\n",
        "        training_cluster = ComputeTarget.create(ws, cluster_name, compute_config)\r\n",
        "        training_cluster.wait_for_completion(show_output=True)\r\n",
        "    except Exception as ex:\r\n",
        "        print(ex)\r\n",
        "    "
      ],
      "outputs": [
        {
          "output_type": "stream",
          "name": "stdout",
          "text": "InProgress.\nSucceededProvisioning operation finished, operation \"Succeeded\"\nSucceeded\nAmlCompute wait for completion finished\n\nMinimum number of nodes requested have been provisioned\n"
        }
      ],
      "execution_count": 3,
      "metadata": {
        "jupyter": {
          "source_hidden": false,
          "outputs_hidden": false
        },
        "nteract": {
          "transient": {
            "deleting": false
          }
        },
        "gather": {
          "logged": 1661014629942
        }
      }
    },
    {
      "cell_type": "code",
      "source": [
        "from azureml.core import Dataset\r\n",
        "\r\n",
        "default_ds = ws.get_default_datastore()\r\n",
        "\r\n",
        "if 'diabetes dataset' not in ws.datasets:\r\n",
        "    default_ds.upload_files(files=['./data/diabetes.csv', './data/diabetes2.csv'], # Upload the diabetes csv files in /data\r\n",
        "                        target_path='diabetes-data/', # Put it in a folder path in the datastore\r\n",
        "                        overwrite=True, # Replace existing files of the same name\r\n",
        "                        show_progress=True)\r\n",
        "\r\n",
        "    #Create a tabular dataset from the path on the datastore (this may take a short while)\r\n",
        "    tab_data_set = Dataset.Tabular.from_delimited_files(path=(default_ds, 'diabetes-data/*.csv'))\r\n",
        "\r\n",
        "    # Register the tabular dataset\r\n",
        "    try:\r\n",
        "        tab_data_set = tab_data_set.register(workspace=ws, \r\n",
        "                                name='diabetes dataset',\r\n",
        "                                description='diabetes data',\r\n",
        "                                tags = {'format':'CSV'},\r\n",
        "                                create_new_version=True)\r\n",
        "        print('Dataset registered.')\r\n",
        "    except Exception as ex:\r\n",
        "        print(ex)\r\n",
        "else:\r\n",
        "    print('Dataset already registered.')\r\n",
        "    \r\n",
        "# Split the dataset into training and validation subsets\r\n",
        "diabetes_ds = ws.datasets.get(\"diabetes dataset\")\r\n",
        "train_ds, test_ds = diabetes_ds.random_split(percentage=0.7, seed=123)\r\n",
        "print(\"Data ready!\")"
      ],
      "outputs": [
        {
          "output_type": "stream",
          "name": "stdout",
          "text": "Dataset already registered.\nData ready!\n"
        }
      ],
      "execution_count": 4,
      "metadata": {
        "jupyter": {
          "source_hidden": false,
          "outputs_hidden": false
        },
        "nteract": {
          "transient": {
            "deleting": false
          }
        },
        "gather": {
          "logged": 1661014632580
        }
      }
    },
    {
      "cell_type": "markdown",
      "source": [
        "## AutoML Configuration\n",
        "\n",
        "TODO: Explain why you chose the automl settings and cofiguration you used below."
      ],
      "metadata": {}
    },
    {
      "cell_type": "code",
      "source": [
        "from azureml.train.automl import AutoMLConfig\n",
        "\n",
        "automl_settings = {\n",
        "    \"experiment_timeout_minutes\": 30,\n",
        "    \"max_concurrent_iterations\": 4,\n",
        "    \"primary_metric\" : 'AUC_weighted',\n",
        "    \"n_cross_validations\": 5\n",
        "}\n",
        "\n",
        "automl_config = AutoMLConfig(name='Automated ML Experiment',\n",
        "                             task='classification',\n",
        "                             compute_target=training_cluster,\n",
        "                             training_data = train_ds,\n",
        "                             validation_data = test_ds,\n",
        "                             label_column_name='Diabetic',\n",
        "                             iterations=4,\n",
        "                             primary_metric = 'AUC_weighted',\n",
        "                             max_concurrent_iterations=2,\n",
        "                             featurization='auto'\n",
        "                             )\n",
        "\n",
        "print(\"Ready for Auto ML run.\")"
      ],
      "outputs": [
        {
          "output_type": "stream",
          "name": "stdout",
          "text": "Ready for Auto ML run.\n"
        }
      ],
      "execution_count": 5,
      "metadata": {
        "gather": {
          "logged": 1661014632748
        },
        "jupyter": {
          "outputs_hidden": false,
          "source_hidden": false
        },
        "nteract": {
          "transient": {
            "deleting": false
          }
        }
      }
    },
    {
      "cell_type": "code",
      "source": [
        "from azureml.core.experiment import Experiment\r\n",
        "from azureml.widgets import RunDetails\r\n",
        "\r\n",
        "# TODO: Submit your experiment\r\n",
        "\r\n",
        "automl_experiment = Experiment(ws, 'diabetes-automl')\r\n",
        "automl_run = automl_experiment.submit(automl_config)\r\n"
      ],
      "outputs": [
        {
          "output_type": "stream",
          "name": "stdout",
          "text": "Submitting remote run.\n"
        },
        {
          "output_type": "display_data",
          "data": {
            "text/plain": "<IPython.core.display.HTML object>",
            "text/html": "<table style=\"width:100%\"><tr><th>Experiment</th><th>Id</th><th>Type</th><th>Status</th><th>Details Page</th><th>Docs Page</th></tr><tr><td>diabetes-automl</td><td>AutoML_d3f8b2e3-e05a-4372-809d-2de07a085b5e</td><td>automl</td><td>NotStarted</td><td><a href=\"https://ml.azure.com/runs/AutoML_d3f8b2e3-e05a-4372-809d-2de07a085b5e?wsid=/subscriptions/cdbe0b43-92a0-4715-838a-f2648cc7ad21/resourcegroups/aml-quickstarts-204721/workspaces/quick-starts-ws-204721&amp;tid=660b3398-b80e-49d2-bc5b-ac1dc93b5254\" target=\"_blank\" rel=\"noopener\">Link to Azure Machine Learning studio</a></td><td><a href=\"https://docs.microsoft.com/en-us/python/api/overview/azure/ml/intro?view=azure-ml-py\" target=\"_blank\" rel=\"noopener\">Link to Documentation</a></td></tr></table>"
          },
          "metadata": {}
        }
      ],
      "execution_count": 6,
      "metadata": {
        "jupyter": {
          "source_hidden": false,
          "outputs_hidden": false
        },
        "nteract": {
          "transient": {
            "deleting": false
          }
        },
        "gather": {
          "logged": 1661014637630
        }
      }
    },
    {
      "cell_type": "markdown",
      "source": [
        "## Run Details\n",
        "\n",
        "OPTIONAL: Write about the different models trained and their performance. Why do you think some models did better than others?\n",
        "\n",
        "TODO: In the cell below, use the `RunDetails` widget to show the different experiments."
      ],
      "metadata": {}
    },
    {
      "cell_type": "code",
      "source": [
        "from azureml.widgets import RunDetails\r\n",
        "\r\n",
        "RunDetails(automl_run).show()\r\n",
        "automl_run.wait_for_completion(show_output=True)"
      ],
      "outputs": [
        {
          "output_type": "display_data",
          "data": {
            "text/plain": "_AutoMLWidget(widget_settings={'childWidgetDisplay': 'popup', 'send_telemetry': False, 'log_level': 'INFO', 's…",
            "application/vnd.jupyter.widget-view+json": {
              "version_major": 2,
              "version_minor": 0,
              "model_id": "dfdd51498495498cba71735af206868b"
            }
          },
          "metadata": {}
        },
        {
          "output_type": "display_data",
          "data": {
            "application/aml.mini.widget.v1": "{\"status\": \"Completed\", \"workbench_run_details_uri\": \"https://ml.azure.com/runs/AutoML_d3f8b2e3-e05a-4372-809d-2de07a085b5e?wsid=/subscriptions/cdbe0b43-92a0-4715-838a-f2648cc7ad21/resourcegroups/aml-quickstarts-204721/workspaces/quick-starts-ws-204721&tid=660b3398-b80e-49d2-bc5b-ac1dc93b5254\", \"run_id\": \"AutoML_d3f8b2e3-e05a-4372-809d-2de07a085b5e\", \"run_properties\": {\"run_id\": \"AutoML_d3f8b2e3-e05a-4372-809d-2de07a085b5e\", \"created_utc\": \"2022-08-20T16:57:16.655104Z\", \"properties\": {\"num_iterations\": \"4\", \"training_type\": \"TrainFull\", \"acquisition_function\": \"EI\", \"primary_metric\": \"AUC_weighted\", \"train_split\": \"0\", \"acquisition_parameter\": \"0\", \"num_cross_validation\": null, \"target\": \"your-compute-cluster\", \"AMLSettingsJsonString\": \"{\\\"path\\\":null,\\\"name\\\":\\\"Automated ML Experiment\\\",\\\"subscription_id\\\":\\\"cdbe0b43-92a0-4715-838a-f2648cc7ad21\\\",\\\"resource_group\\\":\\\"aml-quickstarts-204721\\\",\\\"workspace_name\\\":\\\"quick-starts-ws-204721\\\",\\\"region\\\":\\\"southcentralus\\\",\\\"compute_target\\\":\\\"your-compute-cluster\\\",\\\"spark_service\\\":null,\\\"azure_service\\\":\\\"remote\\\",\\\"many_models\\\":false,\\\"pipeline_fetch_max_batch_size\\\":1,\\\"enable_batch_run\\\":true,\\\"enable_run_restructure\\\":false,\\\"start_auxiliary_runs_before_parent_complete\\\":false,\\\"enable_code_generation\\\":true,\\\"iterations\\\":4,\\\"primary_metric\\\":\\\"AUC_weighted\\\",\\\"task_type\\\":\\\"classification\\\",\\\"positive_label\\\":null,\\\"data_script\\\":null,\\\"test_size\\\":0.0,\\\"test_include_predictions_only\\\":false,\\\"validation_size\\\":0.0,\\\"n_cross_validations\\\":null,\\\"y_min\\\":null,\\\"y_max\\\":null,\\\"num_classes\\\":null,\\\"featurization\\\":\\\"auto\\\",\\\"_ignore_package_version_incompatibilities\\\":false,\\\"is_timeseries\\\":false,\\\"max_cores_per_iteration\\\":1,\\\"max_concurrent_iterations\\\":2,\\\"iteration_timeout_minutes\\\":null,\\\"mem_in_mb\\\":null,\\\"enforce_time_on_windows\\\":false,\\\"experiment_timeout_minutes\\\":8640,\\\"experiment_exit_score\\\":null,\\\"partition_column_names\\\":null,\\\"whitelist_models\\\":null,\\\"blacklist_algos\\\":[\\\"TensorFlowLinearClassifier\\\",\\\"TensorFlowDNN\\\"],\\\"supported_models\\\":[\\\"TensorFlowDNN\\\",\\\"TensorFlowLinearClassifier\\\",\\\"KNN\\\",\\\"TabnetClassifier\\\",\\\"DecisionTree\\\",\\\"GradientBoosting\\\",\\\"LogisticRegression\\\",\\\"SVM\\\",\\\"SGD\\\",\\\"MultinomialNaiveBayes\\\",\\\"LightGBM\\\",\\\"LinearSVM\\\",\\\"XGBoostClassifier\\\",\\\"RandomForest\\\",\\\"ExtremeRandomTrees\\\",\\\"BernoulliNaiveBayes\\\",\\\"AveragedPerceptronClassifier\\\"],\\\"private_models\\\":[],\\\"auto_blacklist\\\":true,\\\"blacklist_samples_reached\\\":false,\\\"exclude_nan_labels\\\":true,\\\"verbosity\\\":20,\\\"_debug_log\\\":\\\"azureml_automl.log\\\",\\\"show_warnings\\\":false,\\\"model_explainability\\\":true,\\\"service_url\\\":null,\\\"sdk_url\\\":null,\\\"sdk_packages\\\":null,\\\"enable_onnx_compatible_models\\\":false,\\\"enable_split_onnx_featurizer_estimator_models\\\":false,\\\"vm_type\\\":\\\"STANDARD_DS11_V2\\\",\\\"telemetry_verbosity\\\":20,\\\"send_telemetry\\\":true,\\\"enable_dnn\\\":false,\\\"scenario\\\":\\\"SDK-1.13.0\\\",\\\"environment_label\\\":null,\\\"save_mlflow\\\":false,\\\"enable_categorical_indicators\\\":false,\\\"force_text_dnn\\\":false,\\\"enable_feature_sweeping\\\":true,\\\"enable_early_stopping\\\":true,\\\"early_stopping_n_iters\\\":10,\\\"arguments\\\":null,\\\"dataset_id\\\":\\\"af8dbc29-ddcc-4ab4-aa2d-e56fcafa0a78\\\",\\\"hyperdrive_config\\\":null,\\\"validation_dataset_id\\\":\\\"c3854bc9-02fe-4ace-a396-ab444ec2d11f\\\",\\\"run_source\\\":null,\\\"metrics\\\":null,\\\"enable_metric_confidence\\\":false,\\\"enable_ensembling\\\":true,\\\"enable_stack_ensembling\\\":true,\\\"ensemble_iterations\\\":4,\\\"enable_tf\\\":false,\\\"enable_subsampling\\\":false,\\\"subsample_seed\\\":null,\\\"enable_nimbusml\\\":false,\\\"enable_streaming\\\":false,\\\"force_streaming\\\":false,\\\"track_child_runs\\\":true,\\\"allowed_private_models\\\":[],\\\"label_column_name\\\":\\\"Diabetic\\\",\\\"weight_column_name\\\":null,\\\"cv_split_column_names\\\":null,\\\"enable_local_managed\\\":false,\\\"_local_managed_run_id\\\":null,\\\"cost_mode\\\":1,\\\"lag_length\\\":0,\\\"metric_operation\\\":\\\"maximize\\\",\\\"preprocess\\\":true}\", \"DataPrepJsonString\": \"{\\\\\\\"training_data\\\\\\\": {\\\\\\\"datasetId\\\\\\\": \\\\\\\"af8dbc29-ddcc-4ab4-aa2d-e56fcafa0a78\\\\\\\"}, \\\\\\\"validation_data\\\\\\\": {\\\\\\\"datasetId\\\\\\\": \\\\\\\"c3854bc9-02fe-4ace-a396-ab444ec2d11f\\\\\\\"}, \\\\\\\"datasets\\\\\\\": 0}\", \"EnableSubsampling\": \"False\", \"runTemplate\": \"AutoML\", \"azureml.runsource\": \"automl\", \"display_task_type\": \"classification\", \"dependencies_versions\": \"{\\\"azureml-widgets\\\": \\\"1.43.0\\\", \\\"azureml-training-tabular\\\": \\\"1.43.0\\\", \\\"azureml-train\\\": \\\"1.43.0\\\", \\\"azureml-train-restclients-hyperdrive\\\": \\\"1.43.0\\\", \\\"azureml-train-core\\\": \\\"1.43.0\\\", \\\"azureml-train-automl\\\": \\\"1.43.0\\\", \\\"azureml-train-automl-runtime\\\": \\\"1.43.0\\\", \\\"azureml-train-automl-client\\\": \\\"1.43.0\\\", \\\"azureml-tensorboard\\\": \\\"1.43.0\\\", \\\"azureml-telemetry\\\": \\\"1.43.0\\\", \\\"azureml-sdk\\\": \\\"1.43.0\\\", \\\"azureml-samples\\\": \\\"0+unknown\\\", \\\"azureml-responsibleai\\\": \\\"1.43.0\\\", \\\"azureml-pipeline\\\": \\\"1.43.0\\\", \\\"azureml-pipeline-steps\\\": \\\"1.43.0\\\", \\\"azureml-pipeline-core\\\": \\\"1.43.0\\\", \\\"azureml-opendatasets\\\": \\\"1.43.0\\\", \\\"azureml-mlflow\\\": \\\"1.43.0.post1\\\", \\\"azureml-interpret\\\": \\\"1.43.0\\\", \\\"azureml-inference-server-http\\\": \\\"0.4.13\\\", \\\"azureml-explain-model\\\": \\\"1.43.0\\\", \\\"azureml-defaults\\\": \\\"1.43.0\\\", \\\"azureml-dataset-runtime\\\": \\\"1.43.0.post2\\\", \\\"azureml-dataprep\\\": \\\"4.0.4\\\", \\\"azureml-dataprep-rslex\\\": \\\"2.6.3\\\", \\\"azureml-dataprep-native\\\": \\\"38.0.0\\\", \\\"azureml-datadrift\\\": \\\"1.43.0\\\", \\\"azureml-core\\\": \\\"1.43.0\\\", \\\"azureml-contrib-services\\\": \\\"1.43.0\\\", \\\"azureml-contrib-server\\\": \\\"1.43.0\\\", \\\"azureml-contrib-reinforcementlearning\\\": \\\"1.43.0\\\", \\\"azureml-contrib-pipeline-steps\\\": \\\"1.43.0\\\", \\\"azureml-contrib-notebook\\\": \\\"1.43.0\\\", \\\"azureml-contrib-fairness\\\": \\\"1.43.0\\\", \\\"azureml-contrib-dataset\\\": \\\"1.43.0\\\", \\\"azureml-contrib-automl-pipeline-steps\\\": \\\"1.43.0\\\", \\\"azureml-cli-common\\\": \\\"1.43.0\\\", \\\"azureml-automl-runtime\\\": \\\"1.43.0\\\", \\\"azureml-automl-dnn-nlp\\\": \\\"1.43.0.post1\\\", \\\"azureml-automl-core\\\": \\\"1.43.0\\\", \\\"azureml-accel-models\\\": \\\"1.43.0\\\"}\", \"_aml_system_scenario_identification\": \"Remote.Parent\", \"ClientType\": \"SDK\", \"environment_cpu_name\": \"AzureML-AutoML\", \"environment_cpu_label\": \"prod\", \"environment_gpu_name\": \"AzureML-AutoML-GPU\", \"environment_gpu_label\": \"prod\", \"root_attribution\": \"automl\", \"attribution\": \"AutoML\", \"Orchestrator\": \"AutoML\", \"CancelUri\": \"https://southcentralus.api.azureml.ms/jasmine/v1.0/subscriptions/cdbe0b43-92a0-4715-838a-f2648cc7ad21/resourceGroups/aml-quickstarts-204721/providers/Microsoft.MachineLearningServices/workspaces/quick-starts-ws-204721/experimentids/fcb672d7-babb-4006-a6eb-7709048c996f/cancel/AutoML_d3f8b2e3-e05a-4372-809d-2de07a085b5e\", \"ClientSdkVersion\": \"1.44.0\", \"snapshotId\": \"00000000-0000-0000-0000-000000000000\", \"SetupRunId\": \"AutoML_d3f8b2e3-e05a-4372-809d-2de07a085b5e_setup\", \"SetupRunContainerId\": \"dcid.AutoML_d3f8b2e3-e05a-4372-809d-2de07a085b5e_setup\", \"FeaturizationRunJsonPath\": \"featurizer_container.json\", \"FeaturizationRunId\": \"AutoML_d3f8b2e3-e05a-4372-809d-2de07a085b5e_featurize\", \"ProblemInfoJsonString\": \"{\\\"dataset_num_categorical\\\": 0, \\\"is_sparse\\\": true, \\\"subsampling\\\": false, \\\"has_extra_col\\\": true, \\\"dataset_classes\\\": 2, \\\"dataset_features\\\": 23, \\\"dataset_samples\\\": 6986, \\\"single_frequency_class_detected\\\": false}\", \"ModelExplainRunId\": \"AutoML_d3f8b2e3-e05a-4372-809d-2de07a085b5e_ModelExplain\"}, \"tags\": {\"model_explain_run\": \"best_run\", \"_aml_system_automl_run_workspace_id\": \"bd183a61-7731-4f53-95ab-278b70af7550\", \"_aml_system_azureml.automlComponent\": \"AutoML\", \"pipeline_id\": \"\", \"score\": \"\", \"predicted_cost\": \"\", \"fit_time\": \"\", \"training_percent\": \"\", \"iteration\": \"\", \"run_preprocessor\": \"\", \"run_algorithm\": \"\", \"automl_best_child_run_id\": \"AutoML_d3f8b2e3-e05a-4372-809d-2de07a085b5e_2\", \"model_explain_best_run_child_id\": \"AutoML_d3f8b2e3-e05a-4372-809d-2de07a085b5e_2\"}, \"end_time_utc\": \"2022-08-20T17:06:41.933987Z\", \"status\": \"Completed\", \"log_files\": {}, \"log_groups\": [], \"run_duration\": \"0:09:25\", \"run_number\": \"1661014636\", \"run_queued_details\": {\"status\": \"Completed\", \"details\": null}}, \"child_runs\": [{\"run_id\": \"AutoML_d3f8b2e3-e05a-4372-809d-2de07a085b5e_setup\", \"run_number\": 1661014648, \"metric\": null, \"status\": \"Completed\", \"run_type\": \"azureml.scriptrun\", \"training_percent\": null, \"start_time\": \"2022-08-20T17:01:12.50741Z\", \"end_time\": \"2022-08-20T17:03:30.777544Z\", \"created_time\": \"2022-08-20T16:57:28.420447Z\", \"created_time_dt\": \"2022-08-20T16:57:28.420447Z\", \"duration\": \"0:06:02\", \"iteration\": null, \"goal\": null, \"run_name\": \"Completed\", \"run_properties\": null}, {\"run_id\": \"AutoML_d3f8b2e3-e05a-4372-809d-2de07a085b5e_featurize\", \"run_number\": 1661015011, \"metric\": null, \"status\": \"Completed\", \"run_type\": \"automl.featurization\", \"training_percent\": null, \"start_time\": \"2022-08-20T17:03:31.38079Z\", \"end_time\": \"2022-08-20T17:04:20.590401Z\", \"created_time\": \"2022-08-20T17:03:31.1325Z\", \"created_time_dt\": \"2022-08-20T17:03:31.1325Z\", \"duration\": \"0:00:49\", \"iteration\": null, \"goal\": null, \"run_name\": \"Completed\", \"run_properties\": null}, {\"run_id\": \"AutoML_d3f8b2e3-e05a-4372-809d-2de07a085b5e_0\", \"run_number\": 1661015060, \"metric\": null, \"status\": \"Completed\", \"run_type\": null, \"training_percent\": \"100\", \"start_time\": \"2022-08-20T17:05:13.464603Z\", \"end_time\": \"2022-08-20T17:05:24.527212Z\", \"created_time\": \"2022-08-20T17:04:20.964505Z\", \"created_time_dt\": \"2022-08-20T17:04:20.964505Z\", \"duration\": \"0:01:03\", \"iteration\": \"0\", \"goal\": \"AUC_weighted_max\", \"run_name\": \"MaxAbsScaler, LightGBM\", \"run_properties\": \"copy=True\", \"primary_metric\": 0.99074302, \"best_metric\": 0.99074302}, {\"run_id\": \"AutoML_d3f8b2e3-e05a-4372-809d-2de07a085b5e_worker_1\", \"run_number\": 1661015061, \"metric\": null, \"status\": \"Completed\", \"run_type\": \"azureml.scriptrun\", \"training_percent\": null, \"start_time\": \"2022-08-20T17:04:28.002351Z\", \"end_time\": \"2022-08-20T17:04:55.181144Z\", \"created_time\": \"2022-08-20T17:04:21.793775Z\", \"created_time_dt\": \"2022-08-20T17:04:21.793775Z\", \"duration\": \"0:00:33\", \"iteration\": null, \"goal\": null, \"run_name\": \"Completed\", \"run_properties\": null}, {\"run_id\": \"AutoML_d3f8b2e3-e05a-4372-809d-2de07a085b5e_2\", \"run_number\": 1661015125, \"metric\": null, \"status\": \"Completed\", \"run_type\": \"azureml.scriptrun\", \"training_percent\": \"100\", \"start_time\": \"2022-08-20T17:05:37.664276Z\", \"end_time\": \"2022-08-20T17:06:05.505385Z\", \"created_time\": \"2022-08-20T17:05:25.142073Z\", \"created_time_dt\": \"2022-08-20T17:05:25.142073Z\", \"duration\": \"0:00:40\", \"iteration\": \"2\", \"goal\": \"AUC_weighted_max\", \"run_name\": \"VotingEnsemble\", \"run_properties\": \"classification_labels=numpy.array([0, 1]\", \"primary_metric\": 0.99123879, \"best_metric\": 0.99123879}], \"children_metrics\": {\"categories\": [0], \"series\": {\"average_precision_score_macro\": [{\"categories\": [\"0\", \"2\"], \"mode\": \"markers\", \"name\": \"average_precision_score_macro\", \"stepped\": false, \"type\": \"scatter\", \"data\": [0.9898209799909584, 0.990370929681891]}, {\"categories\": [\"0\", \"2\"], \"mode\": \"lines\", \"name\": \"average_precision_score_macro_max\", \"stepped\": true, \"type\": \"scatter\", \"data\": [0.9898209799909584, 0.990370929681891]}], \"weighted_accuracy\": [{\"categories\": [\"0\", \"2\"], \"mode\": \"markers\", \"name\": \"weighted_accuracy\", \"stepped\": false, \"type\": \"scatter\", \"data\": [0.9588708895140168, 0.960683074806656]}, {\"categories\": [\"0\", \"2\"], \"mode\": \"lines\", \"name\": \"weighted_accuracy_max\", \"stepped\": true, \"type\": \"scatter\", \"data\": [0.9588708895140168, 0.960683074806656]}], \"balanced_accuracy\": [{\"categories\": [\"0\", \"2\"], \"mode\": \"markers\", \"name\": \"balanced_accuracy\", \"stepped\": false, \"type\": \"scatter\", \"data\": [0.9478024930152589, 0.9500107457554265]}, {\"categories\": [\"0\", \"2\"], \"mode\": \"lines\", \"name\": \"balanced_accuracy_max\", \"stepped\": true, \"type\": \"scatter\", \"data\": [0.9478024930152589, 0.9500107457554265]}], \"recall_score_macro\": [{\"categories\": [\"0\", \"2\"], \"mode\": \"markers\", \"name\": \"recall_score_macro\", \"stepped\": false, \"type\": \"scatter\", \"data\": [0.9478024930152589, 0.9500107457554265]}, {\"categories\": [\"0\", \"2\"], \"mode\": \"lines\", \"name\": \"recall_score_macro_max\", \"stepped\": true, \"type\": \"scatter\", \"data\": [0.9478024930152589, 0.9500107457554265]}], \"f1_score_macro\": [{\"categories\": [\"0\", \"2\"], \"mode\": \"markers\", \"name\": \"f1_score_macro\", \"stepped\": false, \"type\": \"scatter\", \"data\": [0.948735042377356, 0.9509479182459594]}, {\"categories\": [\"0\", \"2\"], \"mode\": \"lines\", \"name\": \"f1_score_macro_max\", \"stepped\": true, \"type\": \"scatter\", \"data\": [0.948735042377356, 0.9509479182459594]}], \"recall_score_weighted\": [{\"categories\": [\"0\", \"2\"], \"mode\": \"markers\", \"name\": \"recall_score_weighted\", \"stepped\": false, \"type\": \"scatter\", \"data\": [0.9538818845388188, 0.955872594558726]}, {\"categories\": [\"0\", \"2\"], \"mode\": \"lines\", \"name\": \"recall_score_weighted_max\", \"stepped\": true, \"type\": \"scatter\", \"data\": [0.9538818845388188, 0.955872594558726]}], \"norm_macro_recall\": [{\"categories\": [\"0\", \"2\"], \"mode\": \"markers\", \"name\": \"norm_macro_recall\", \"stepped\": false, \"type\": \"scatter\", \"data\": [0.8956049860305177, 0.9000214915108531]}, {\"categories\": [\"0\", \"2\"], \"mode\": \"lines\", \"name\": \"norm_macro_recall_max\", \"stepped\": true, \"type\": \"scatter\", \"data\": [0.8956049860305177, 0.9000214915108531]}], \"f1_score_micro\": [{\"categories\": [\"0\", \"2\"], \"mode\": \"markers\", \"name\": \"f1_score_micro\", \"stepped\": false, \"type\": \"scatter\", \"data\": [0.9538818845388188, 0.955872594558726]}, {\"categories\": [\"0\", \"2\"], \"mode\": \"lines\", \"name\": \"f1_score_micro_max\", \"stepped\": true, \"type\": \"scatter\", \"data\": [0.9538818845388188, 0.955872594558726]}], \"log_loss\": [{\"categories\": [\"0\", \"2\"], \"mode\": \"markers\", \"name\": \"log_loss\", \"stepped\": false, \"type\": \"scatter\", \"data\": [0.1159845133933299, 0.11140536433683812]}, {\"categories\": [\"0\", \"2\"], \"mode\": \"lines\", \"name\": \"log_loss_min\", \"stepped\": true, \"type\": \"scatter\", \"data\": [0.1159845133933299, 0.11140536433683812]}], \"AUC_macro\": [{\"categories\": [\"0\", \"2\"], \"mode\": \"markers\", \"name\": \"AUC_macro\", \"stepped\": false, \"type\": \"scatter\", \"data\": [0.990743020143407, 0.9912387902233164]}, {\"categories\": [\"0\", \"2\"], \"mode\": \"lines\", \"name\": \"AUC_macro_max\", \"stepped\": true, \"type\": \"scatter\", \"data\": [0.990743020143407, 0.9912387902233164]}], \"recall_score_micro\": [{\"categories\": [\"0\", \"2\"], \"mode\": \"markers\", \"name\": \"recall_score_micro\", \"stepped\": false, \"type\": \"scatter\", \"data\": [0.9538818845388188, 0.955872594558726]}, {\"categories\": [\"0\", \"2\"], \"mode\": \"lines\", \"name\": \"recall_score_micro_max\", \"stepped\": true, \"type\": \"scatter\", \"data\": [0.9538818845388188, 0.955872594558726]}], \"precision_score_macro\": [{\"categories\": [\"0\", \"2\"], \"mode\": \"markers\", \"name\": \"precision_score_macro\", \"stepped\": false, \"type\": \"scatter\", \"data\": [0.9496903702068695, 0.9519079326539872]}, {\"categories\": [\"0\", \"2\"], \"mode\": \"lines\", \"name\": \"precision_score_macro_max\", \"stepped\": true, \"type\": \"scatter\", \"data\": [0.9496903702068695, 0.9519079326539872]}], \"AUC_weighted\": [{\"categories\": [\"0\", \"2\"], \"mode\": \"markers\", \"name\": \"AUC_weighted\", \"stepped\": false, \"type\": \"scatter\", \"data\": [0.990743020143407, 0.9912387902233164]}, {\"categories\": [\"0\", \"2\"], \"mode\": \"lines\", \"name\": \"AUC_weighted_max\", \"stepped\": true, \"type\": \"scatter\", \"data\": [0.990743020143407, 0.9912387902233164]}], \"f1_score_weighted\": [{\"categories\": [\"0\", \"2\"], \"mode\": \"markers\", \"name\": \"f1_score_weighted\", \"stepped\": false, \"type\": \"scatter\", \"data\": [0.95383338026714, 0.955826183996616]}, {\"categories\": [\"0\", \"2\"], \"mode\": \"lines\", \"name\": \"f1_score_weighted_max\", \"stepped\": true, \"type\": \"scatter\", \"data\": [0.95383338026714, 0.955826183996616]}], \"precision_score_weighted\": [{\"categories\": [\"0\", \"2\"], \"mode\": \"markers\", \"name\": \"precision_score_weighted\", \"stepped\": false, \"type\": \"scatter\", \"data\": [0.9538036197483883, 0.9557985656019985]}, {\"categories\": [\"0\", \"2\"], \"mode\": \"lines\", \"name\": \"precision_score_weighted_max\", \"stepped\": true, \"type\": \"scatter\", \"data\": [0.9538036197483883, 0.9557985656019985]}], \"average_precision_score_micro\": [{\"categories\": [\"0\", \"2\"], \"mode\": \"markers\", \"name\": \"average_precision_score_micro\", \"stepped\": false, \"type\": \"scatter\", \"data\": [0.9917401158817618, 0.9922011861395298]}, {\"categories\": [\"0\", \"2\"], \"mode\": \"lines\", \"name\": \"average_precision_score_micro_max\", \"stepped\": true, \"type\": \"scatter\", \"data\": [0.9917401158817618, 0.9922011861395298]}], \"matthews_correlation\": [{\"categories\": [\"0\", \"2\"], \"mode\": \"markers\", \"name\": \"matthews_correlation\", \"stepped\": false, \"type\": \"scatter\", \"data\": [0.8974908776440926, 0.9019166830398778]}, {\"categories\": [\"0\", \"2\"], \"mode\": \"lines\", \"name\": \"matthews_correlation_max\", \"stepped\": true, \"type\": \"scatter\", \"data\": [0.8974908776440926, 0.9019166830398778]}], \"average_precision_score_weighted\": [{\"categories\": [\"0\", \"2\"], \"mode\": \"markers\", \"name\": \"average_precision_score_weighted\", \"stepped\": false, \"type\": \"scatter\", \"data\": [0.9914299520446982, 0.991886869621659]}, {\"categories\": [\"0\", \"2\"], \"mode\": \"lines\", \"name\": \"average_precision_score_weighted_max\", \"stepped\": true, \"type\": \"scatter\", \"data\": [0.9914299520446982, 0.991886869621659]}], \"precision_score_micro\": [{\"categories\": [\"0\", \"2\"], \"mode\": \"markers\", \"name\": \"precision_score_micro\", \"stepped\": false, \"type\": \"scatter\", \"data\": [0.9538818845388188, 0.955872594558726]}, {\"categories\": [\"0\", \"2\"], \"mode\": \"lines\", \"name\": \"precision_score_micro_max\", \"stepped\": true, \"type\": \"scatter\", \"data\": [0.9538818845388188, 0.955872594558726]}], \"accuracy\": [{\"categories\": [\"0\", \"2\"], \"mode\": \"markers\", \"name\": \"accuracy\", \"stepped\": false, \"type\": \"scatter\", \"data\": [0.9538818845388188, 0.955872594558726]}, {\"categories\": [\"0\", \"2\"], \"mode\": \"lines\", \"name\": \"accuracy_max\", \"stepped\": true, \"type\": \"scatter\", \"data\": [0.9538818845388188, 0.955872594558726]}], \"AUC_micro\": [{\"categories\": [\"0\", \"2\"], \"mode\": \"markers\", \"name\": \"AUC_micro\", \"stepped\": false, \"type\": \"scatter\", \"data\": [0.991587257694572, 0.9920696339004574]}, {\"categories\": [\"0\", \"2\"], \"mode\": \"lines\", \"name\": \"AUC_micro_max\", \"stepped\": true, \"type\": \"scatter\", \"data\": [0.991587257694572, 0.9920696339004574]}]}, \"metricName\": null, \"primaryMetricName\": \"AUC_weighted\", \"showLegend\": false}, \"run_metrics\": [{\"name\": \"experiment_status\", \"run_id\": \"AutoML_d3f8b2e3-e05a-4372-809d-2de07a085b5e\", \"categories\": [0, 1, 2, 3, 4, 5, 6, 7, 8, 9, 10, 11, 12], \"series\": [{\"data\": [\"DatasetEvaluation\", \"FeaturesGeneration\", \"DatasetFeaturization\", \"DatasetFeaturizationCompleted\", \"ModelSelection\", \"BestRunExplainModel\", \"ModelExplanationDataSetSetup\", \"PickSurrogateModel\", \"EngineeredFeatureExplanations\", \"EngineeredFeatureExplanations\", \"RawFeaturesExplanations\", \"RawFeaturesExplanations\", \"BestRunExplainModel\"]}]}, {\"name\": \"experiment_status_description\", \"run_id\": \"AutoML_d3f8b2e3-e05a-4372-809d-2de07a085b5e\", \"categories\": [0, 1, 2, 3, 4, 5, 6, 7, 8, 9, 10, 11, 12], \"series\": [{\"data\": [\"Gathering dataset statistics.\", \"Generating features for the dataset.\", \"Beginning to fit featurizers and featurize the dataset.\", \"Completed fit featurizers and featurizing the dataset.\", \"Beginning model selection.\", \"Best run model explanations started\", \"Model explanations data setup completed\", \"Choosing LightGBM as the surrogate model for explanations\", \"Computation of engineered features started\", \"Computation of engineered features completed\", \"Computation of raw features started\", \"Computation of raw features completed\", \"Best run model explanations completed\"]}]}, {\"name\": \"f1_score_macro\", \"run_id\": \"AutoML_d3f8b2e3-e05a-4372-809d-2de07a085b5e\", \"categories\": [0], \"series\": [{\"data\": [0.9509479182459594]}]}, {\"name\": \"average_precision_score_weighted\", \"run_id\": \"AutoML_d3f8b2e3-e05a-4372-809d-2de07a085b5e\", \"categories\": [0], \"series\": [{\"data\": [0.991886869621659]}]}, {\"name\": \"balanced_accuracy\", \"run_id\": \"AutoML_d3f8b2e3-e05a-4372-809d-2de07a085b5e\", \"categories\": [0], \"series\": [{\"data\": [0.9500107457554265]}]}, {\"name\": \"f1_score_micro\", \"run_id\": \"AutoML_d3f8b2e3-e05a-4372-809d-2de07a085b5e\", \"categories\": [0], \"series\": [{\"data\": [0.955872594558726]}]}, {\"name\": \"average_precision_score_micro\", \"run_id\": \"AutoML_d3f8b2e3-e05a-4372-809d-2de07a085b5e\", \"categories\": [0], \"series\": [{\"data\": [0.9922011861395298]}]}, {\"name\": \"precision_score_macro\", \"run_id\": \"AutoML_d3f8b2e3-e05a-4372-809d-2de07a085b5e\", \"categories\": [0], \"series\": [{\"data\": [0.9519079326539872]}]}, {\"name\": \"accuracy\", \"run_id\": \"AutoML_d3f8b2e3-e05a-4372-809d-2de07a085b5e\", \"categories\": [0], \"series\": [{\"data\": [0.955872594558726]}]}, {\"name\": \"recall_score_weighted\", \"run_id\": \"AutoML_d3f8b2e3-e05a-4372-809d-2de07a085b5e\", \"categories\": [0], \"series\": [{\"data\": [0.955872594558726]}]}, {\"name\": \"norm_macro_recall\", \"run_id\": \"AutoML_d3f8b2e3-e05a-4372-809d-2de07a085b5e\", \"categories\": [0], \"series\": [{\"data\": [0.9000214915108531]}]}, {\"name\": \"f1_score_weighted\", \"run_id\": \"AutoML_d3f8b2e3-e05a-4372-809d-2de07a085b5e\", \"categories\": [0], \"series\": [{\"data\": [0.955826183996616]}]}, {\"name\": \"precision_score_micro\", \"run_id\": \"AutoML_d3f8b2e3-e05a-4372-809d-2de07a085b5e\", \"categories\": [0], \"series\": [{\"data\": [0.955872594558726]}]}, {\"name\": \"average_precision_score_macro\", \"run_id\": \"AutoML_d3f8b2e3-e05a-4372-809d-2de07a085b5e\", \"categories\": [0], \"series\": [{\"data\": [0.990370929681891]}]}, {\"name\": \"AUC_weighted\", \"run_id\": \"AutoML_d3f8b2e3-e05a-4372-809d-2de07a085b5e\", \"categories\": [0], \"series\": [{\"data\": [0.9912387902233164]}]}, {\"name\": \"AUC_macro\", \"run_id\": \"AutoML_d3f8b2e3-e05a-4372-809d-2de07a085b5e\", \"categories\": [0], \"series\": [{\"data\": [0.9912387902233164]}]}, {\"name\": \"recall_score_micro\", \"run_id\": \"AutoML_d3f8b2e3-e05a-4372-809d-2de07a085b5e\", \"categories\": [0], \"series\": [{\"data\": [0.955872594558726]}]}, {\"name\": \"matthews_correlation\", \"run_id\": \"AutoML_d3f8b2e3-e05a-4372-809d-2de07a085b5e\", \"categories\": [0], \"series\": [{\"data\": [0.9019166830398778]}]}, {\"name\": \"precision_score_weighted\", \"run_id\": \"AutoML_d3f8b2e3-e05a-4372-809d-2de07a085b5e\", \"categories\": [0], \"series\": [{\"data\": [0.9557985656019985]}]}, {\"name\": \"log_loss\", \"run_id\": \"AutoML_d3f8b2e3-e05a-4372-809d-2de07a085b5e\", \"categories\": [0], \"series\": [{\"data\": [0.11140536433683812]}]}, {\"name\": \"recall_score_macro\", \"run_id\": \"AutoML_d3f8b2e3-e05a-4372-809d-2de07a085b5e\", \"categories\": [0], \"series\": [{\"data\": [0.9500107457554265]}]}, {\"name\": \"AUC_micro\", \"run_id\": \"AutoML_d3f8b2e3-e05a-4372-809d-2de07a085b5e\", \"categories\": [0], \"series\": [{\"data\": [0.9920696339004574]}]}, {\"name\": \"weighted_accuracy\", \"run_id\": \"AutoML_d3f8b2e3-e05a-4372-809d-2de07a085b5e\", \"categories\": [0], \"series\": [{\"data\": [0.960683074806656]}]}], \"run_logs\": \"\\nRun is completed.\", \"graph\": {}, \"widget_settings\": {\"childWidgetDisplay\": \"popup\", \"send_telemetry\": false, \"log_level\": \"INFO\", \"sdk_version\": \"1.43.0\"}, \"loading\": false}"
          },
          "metadata": {}
        },
        {
          "output_type": "display_data",
          "data": {
            "text/plain": "<IPython.core.display.HTML object>",
            "text/html": "<table style=\"width:100%\"><tr><th>Experiment</th><th>Id</th><th>Type</th><th>Status</th><th>Details Page</th><th>Docs Page</th></tr><tr><td>diabetes-automl</td><td>AutoML_d3f8b2e3-e05a-4372-809d-2de07a085b5e</td><td>automl</td><td>NotStarted</td><td><a href=\"https://ml.azure.com/runs/AutoML_d3f8b2e3-e05a-4372-809d-2de07a085b5e?wsid=/subscriptions/cdbe0b43-92a0-4715-838a-f2648cc7ad21/resourcegroups/aml-quickstarts-204721/workspaces/quick-starts-ws-204721&amp;tid=660b3398-b80e-49d2-bc5b-ac1dc93b5254\" target=\"_blank\" rel=\"noopener\">Link to Azure Machine Learning studio</a></td><td><a href=\"https://docs.microsoft.com/en-us/python/api/overview/azure/ml/intro?view=azure-ml-py\" target=\"_blank\" rel=\"noopener\">Link to Documentation</a></td></tr></table>"
          },
          "metadata": {}
        },
        {
          "output_type": "stream",
          "name": "stdout",
          "text": "\nCurrent status: FeaturesGeneration. Generating features for the dataset.\nCurrent status: DatasetFeaturizationCompleted. Completed fit featurizers and featurizing the dataset.\nCurrent status: ModelSelection. Beginning model selection.\n\n********************************************************************************************\nDATA GUARDRAILS: \n\nTYPE:         Class balancing detection\nSTATUS:       PASSED\nDESCRIPTION:  Your inputs were analyzed, and all classes are balanced in your training data.\n              Learn more about imbalanced data: https://aka.ms/AutomatedMLImbalancedData\n\n********************************************************************************************\n\nTYPE:         Missing feature values imputation\nSTATUS:       PASSED\nDESCRIPTION:  No feature missing values were detected in the training data.\n              Learn more about missing value imputation: https://aka.ms/AutomatedMLFeaturization\n\n********************************************************************************************\n\nTYPE:         High cardinality feature detection\nSTATUS:       PASSED\nDESCRIPTION:  Your inputs were analyzed, and no high cardinality features were detected.\n              Learn more about high cardinality feature handling: https://aka.ms/AutomatedMLFeaturization\n\n********************************************************************************************\n\n********************************************************************************************\nITER: The iteration being evaluated.\nPIPELINE: A summary description of the pipeline being evaluated.\nDURATION: Time taken for the current iteration.\nMETRIC: The result of computing score on the fitted pipeline.\nBEST: The best observed score thus far.\n********************************************************************************************\n\n ITER   PIPELINE                                       DURATION            METRIC      BEST\n    1   MaxAbsScaler XGBoostClassifier                 0:00:12             0.9908    0.9908\n    0   MaxAbsScaler LightGBM                          0:00:11             0.9907    0.9908\n    2    VotingEnsemble                                0:00:28             0.9912    0.9912\n    3    StackEnsemble                                 0:00:30             0.9912    0.9912\n"
        },
        {
          "output_type": "execute_result",
          "execution_count": 7,
          "data": {
            "text/plain": "{'runId': 'AutoML_d3f8b2e3-e05a-4372-809d-2de07a085b5e',\n 'target': 'your-compute-cluster',\n 'status': 'Completed',\n 'startTimeUtc': '2022-08-20T16:57:29.51599Z',\n 'endTimeUtc': '2022-08-20T17:06:41.933987Z',\n 'services': {},\n 'properties': {'num_iterations': '4',\n  'training_type': 'TrainFull',\n  'acquisition_function': 'EI',\n  'primary_metric': 'AUC_weighted',\n  'train_split': '0',\n  'acquisition_parameter': '0',\n  'num_cross_validation': None,\n  'target': 'your-compute-cluster',\n  'AMLSettingsJsonString': '{\"path\":null,\"name\":\"Automated ML Experiment\",\"subscription_id\":\"cdbe0b43-92a0-4715-838a-f2648cc7ad21\",\"resource_group\":\"aml-quickstarts-204721\",\"workspace_name\":\"quick-starts-ws-204721\",\"region\":\"southcentralus\",\"compute_target\":\"your-compute-cluster\",\"spark_service\":null,\"azure_service\":\"remote\",\"many_models\":false,\"pipeline_fetch_max_batch_size\":1,\"enable_batch_run\":true,\"enable_run_restructure\":false,\"start_auxiliary_runs_before_parent_complete\":false,\"enable_code_generation\":true,\"iterations\":4,\"primary_metric\":\"AUC_weighted\",\"task_type\":\"classification\",\"positive_label\":null,\"data_script\":null,\"test_size\":0.0,\"test_include_predictions_only\":false,\"validation_size\":0.0,\"n_cross_validations\":null,\"y_min\":null,\"y_max\":null,\"num_classes\":null,\"featurization\":\"auto\",\"_ignore_package_version_incompatibilities\":false,\"is_timeseries\":false,\"max_cores_per_iteration\":1,\"max_concurrent_iterations\":2,\"iteration_timeout_minutes\":null,\"mem_in_mb\":null,\"enforce_time_on_windows\":false,\"experiment_timeout_minutes\":8640,\"experiment_exit_score\":null,\"partition_column_names\":null,\"whitelist_models\":null,\"blacklist_algos\":[\"TensorFlowLinearClassifier\",\"TensorFlowDNN\"],\"supported_models\":[\"TensorFlowDNN\",\"TensorFlowLinearClassifier\",\"KNN\",\"TabnetClassifier\",\"DecisionTree\",\"GradientBoosting\",\"LogisticRegression\",\"SVM\",\"SGD\",\"MultinomialNaiveBayes\",\"LightGBM\",\"LinearSVM\",\"XGBoostClassifier\",\"RandomForest\",\"ExtremeRandomTrees\",\"BernoulliNaiveBayes\",\"AveragedPerceptronClassifier\"],\"private_models\":[],\"auto_blacklist\":true,\"blacklist_samples_reached\":false,\"exclude_nan_labels\":true,\"verbosity\":20,\"_debug_log\":\"azureml_automl.log\",\"show_warnings\":false,\"model_explainability\":true,\"service_url\":null,\"sdk_url\":null,\"sdk_packages\":null,\"enable_onnx_compatible_models\":false,\"enable_split_onnx_featurizer_estimator_models\":false,\"vm_type\":\"STANDARD_DS11_V2\",\"telemetry_verbosity\":20,\"send_telemetry\":true,\"enable_dnn\":false,\"scenario\":\"SDK-1.13.0\",\"environment_label\":null,\"save_mlflow\":false,\"enable_categorical_indicators\":false,\"force_text_dnn\":false,\"enable_feature_sweeping\":true,\"enable_early_stopping\":true,\"early_stopping_n_iters\":10,\"arguments\":null,\"dataset_id\":\"af8dbc29-ddcc-4ab4-aa2d-e56fcafa0a78\",\"hyperdrive_config\":null,\"validation_dataset_id\":\"c3854bc9-02fe-4ace-a396-ab444ec2d11f\",\"run_source\":null,\"metrics\":null,\"enable_metric_confidence\":false,\"enable_ensembling\":true,\"enable_stack_ensembling\":true,\"ensemble_iterations\":4,\"enable_tf\":false,\"enable_subsampling\":false,\"subsample_seed\":null,\"enable_nimbusml\":false,\"enable_streaming\":false,\"force_streaming\":false,\"track_child_runs\":true,\"allowed_private_models\":[],\"label_column_name\":\"Diabetic\",\"weight_column_name\":null,\"cv_split_column_names\":null,\"enable_local_managed\":false,\"_local_managed_run_id\":null,\"cost_mode\":1,\"lag_length\":0,\"metric_operation\":\"maximize\",\"preprocess\":true}',\n  'DataPrepJsonString': '{\\\\\"training_data\\\\\": {\\\\\"datasetId\\\\\": \\\\\"af8dbc29-ddcc-4ab4-aa2d-e56fcafa0a78\\\\\"}, \\\\\"validation_data\\\\\": {\\\\\"datasetId\\\\\": \\\\\"c3854bc9-02fe-4ace-a396-ab444ec2d11f\\\\\"}, \\\\\"datasets\\\\\": 0}',\n  'EnableSubsampling': 'False',\n  'runTemplate': 'AutoML',\n  'azureml.runsource': 'automl',\n  'display_task_type': 'classification',\n  'dependencies_versions': '{\"azureml-widgets\": \"1.43.0\", \"azureml-training-tabular\": \"1.43.0\", \"azureml-train\": \"1.43.0\", \"azureml-train-restclients-hyperdrive\": \"1.43.0\", \"azureml-train-core\": \"1.43.0\", \"azureml-train-automl\": \"1.43.0\", \"azureml-train-automl-runtime\": \"1.43.0\", \"azureml-train-automl-client\": \"1.43.0\", \"azureml-tensorboard\": \"1.43.0\", \"azureml-telemetry\": \"1.43.0\", \"azureml-sdk\": \"1.43.0\", \"azureml-samples\": \"0+unknown\", \"azureml-responsibleai\": \"1.43.0\", \"azureml-pipeline\": \"1.43.0\", \"azureml-pipeline-steps\": \"1.43.0\", \"azureml-pipeline-core\": \"1.43.0\", \"azureml-opendatasets\": \"1.43.0\", \"azureml-mlflow\": \"1.43.0.post1\", \"azureml-interpret\": \"1.43.0\", \"azureml-inference-server-http\": \"0.4.13\", \"azureml-explain-model\": \"1.43.0\", \"azureml-defaults\": \"1.43.0\", \"azureml-dataset-runtime\": \"1.43.0.post2\", \"azureml-dataprep\": \"4.0.4\", \"azureml-dataprep-rslex\": \"2.6.3\", \"azureml-dataprep-native\": \"38.0.0\", \"azureml-datadrift\": \"1.43.0\", \"azureml-core\": \"1.43.0\", \"azureml-contrib-services\": \"1.43.0\", \"azureml-contrib-server\": \"1.43.0\", \"azureml-contrib-reinforcementlearning\": \"1.43.0\", \"azureml-contrib-pipeline-steps\": \"1.43.0\", \"azureml-contrib-notebook\": \"1.43.0\", \"azureml-contrib-fairness\": \"1.43.0\", \"azureml-contrib-dataset\": \"1.43.0\", \"azureml-contrib-automl-pipeline-steps\": \"1.43.0\", \"azureml-cli-common\": \"1.43.0\", \"azureml-automl-runtime\": \"1.43.0\", \"azureml-automl-dnn-nlp\": \"1.43.0.post1\", \"azureml-automl-core\": \"1.43.0\", \"azureml-accel-models\": \"1.43.0\"}',\n  '_aml_system_scenario_identification': 'Remote.Parent',\n  'ClientType': 'SDK',\n  'environment_cpu_name': 'AzureML-AutoML',\n  'environment_cpu_label': 'prod',\n  'environment_gpu_name': 'AzureML-AutoML-GPU',\n  'environment_gpu_label': 'prod',\n  'root_attribution': 'automl',\n  'attribution': 'AutoML',\n  'Orchestrator': 'AutoML',\n  'CancelUri': 'https://southcentralus.api.azureml.ms/jasmine/v1.0/subscriptions/cdbe0b43-92a0-4715-838a-f2648cc7ad21/resourceGroups/aml-quickstarts-204721/providers/Microsoft.MachineLearningServices/workspaces/quick-starts-ws-204721/experimentids/fcb672d7-babb-4006-a6eb-7709048c996f/cancel/AutoML_d3f8b2e3-e05a-4372-809d-2de07a085b5e',\n  'ClientSdkVersion': '1.44.0',\n  'snapshotId': '00000000-0000-0000-0000-000000000000',\n  'SetupRunId': 'AutoML_d3f8b2e3-e05a-4372-809d-2de07a085b5e_setup',\n  'SetupRunContainerId': 'dcid.AutoML_d3f8b2e3-e05a-4372-809d-2de07a085b5e_setup',\n  'FeaturizationRunJsonPath': 'featurizer_container.json',\n  'FeaturizationRunId': 'AutoML_d3f8b2e3-e05a-4372-809d-2de07a085b5e_featurize',\n  'ProblemInfoJsonString': '{\"dataset_num_categorical\": 0, \"is_sparse\": true, \"subsampling\": false, \"has_extra_col\": true, \"dataset_classes\": 2, \"dataset_features\": 23, \"dataset_samples\": 6986, \"single_frequency_class_detected\": false}',\n  'ModelExplainRunId': 'AutoML_d3f8b2e3-e05a-4372-809d-2de07a085b5e_ModelExplain'},\n 'inputDatasets': [{'dataset': {'id': 'af8dbc29-ddcc-4ab4-aa2d-e56fcafa0a78'}, 'consumptionDetails': {'type': 'RunInput', 'inputName': 'training_data', 'mechanism': 'Direct'}}, {'dataset': {'id': 'c3854bc9-02fe-4ace-a396-ab444ec2d11f'}, 'consumptionDetails': {'type': 'RunInput', 'inputName': 'validation_data', 'mechanism': 'Direct'}}],\n 'outputDatasets': [],\n 'logFiles': {},\n 'submittedBy': 'ODL_User 204721'}"
          },
          "metadata": {}
        }
      ],
      "execution_count": 7,
      "metadata": {
        "gather": {
          "logged": 1661015221546
        },
        "jupyter": {
          "outputs_hidden": false,
          "source_hidden": false
        },
        "nteract": {
          "transient": {
            "deleting": false
          }
        }
      }
    },
    {
      "cell_type": "markdown",
      "source": [
        "## Best Model\n",
        "\n",
        "TODO: In the cell below, get the best model from the automl experiments and display all the properties of the model.\n",
        "\n"
      ],
      "metadata": {}
    },
    {
      "cell_type": "code",
      "source": [
        "\r\n",
        "best_run, fitted_model = automl_run.get_output()\r\n",
        "print(best_run)\r\n",
        "print('\\nBest Model Definition:')\r\n",
        "print(fitted_model)\r\n",
        "print('\\nBest Run Transformations:')\r\n",
        "for step in fitted_model.named_steps:\r\n",
        "    print(step)\r\n",
        "print('\\nBest Run Metrics:')\r\n",
        "best_run_metrics = best_run.get_metrics()\r\n",
        "for metric_name in best_run_metrics:\r\n",
        "    metric = best_run_metrics[metric_name]\r\n",
        "    print(metric_name, metric)"
      ],
      "outputs": [
        {
          "output_type": "stream",
          "name": "stderr",
          "text": "WARNING:root:The version of the SDK does not match the version the model was trained on.\nWARNING:root:The consistency in the result may not be guaranteed.\nWARNING:root:Package:azureml-automl-core, training version:1.44.0, current version:1.43.0\nPackage:azureml-automl-runtime, training version:1.44.0, current version:1.43.0\nPackage:azureml-core, training version:1.44.0, current version:1.43.0\nPackage:azureml-dataprep, training version:4.2.2, current version:4.0.4\nPackage:azureml-dataprep-rslex, training version:2.8.1, current version:2.6.3\nPackage:azureml-dataset-runtime, training version:1.44.0, current version:1.43.0.post2\nPackage:azureml-defaults, training version:1.44.0, current version:1.43.0\nPackage:azureml-inference-server-http, training version:0.7.4, current version:0.4.13\nPackage:azureml-interpret, training version:1.44.0, current version:1.43.0\nPackage:azureml-mlflow, training version:1.44.0, current version:1.43.0.post1\nPackage:azureml-pipeline-core, training version:1.44.0, current version:1.43.0\nPackage:azureml-responsibleai, training version:1.44.0, current version:1.43.0\nPackage:azureml-telemetry, training version:1.44.0, current version:1.43.0\nPackage:azureml-train-automl-client, training version:1.44.0, current version:1.43.0\nPackage:azureml-train-automl-runtime, training version:1.44.0, current version:1.43.0\nPackage:azureml-train-core, training version:1.44.0, current version:1.43.0\nPackage:azureml-train-restclients-hyperdrive, training version:1.44.0, current version:1.43.0\nPackage:azureml-training-tabular, training version:1.44.0, current version:1.43.0\nWARNING:root:Please ensure the version of your local conda dependencies match the version on which your model was trained in order to properly retrieve your model.\n"
        },
        {
          "output_type": "stream",
          "name": "stdout",
          "text": "Run(Experiment: diabetes-automl,\nId: AutoML_d3f8b2e3-e05a-4372-809d-2de07a085b5e_2,\nType: azureml.scriptrun,\nStatus: Completed)\n\nBest Model Definition:\nPipeline(memory=None,\n         steps=[('datatransformer',\n                 DataTransformer(enable_dnn=False, enable_feature_sweeping=True, feature_sweeping_config={}, feature_sweeping_timeout=86400, featurization_config=None, force_text_dnn=False, is_cross_validation=False, is_onnx_compatible=False, observer=None, task='classification', working_dir='/mnt/batch/tasks/shared/LS_root/moun...\n                 PreFittedSoftVotingClassifier(classification_labels=array([0, 1]), estimators=[('1', Pipeline(memory=None, steps=[('maxabsscaler', MaxAbsScaler(copy=True)), ('xgboostclassifier', XGBoostClassifier(n_jobs=1, problem_info=ProblemInfo(gpu_training_param_dict={'processing_unit_type': 'cpu'}), random_state=0, tree_method='auto'))], verbose=False)), ('0', Pipeline(memory=None, steps=[('maxabsscaler', MaxAbsScaler(copy=True)), ('lightgbmclassifier', LightGBMClassifier(min_data_in_leaf=20, n_jobs=1, problem_info=ProblemInfo(gpu_training_param_dict={'processing_unit_type': 'cpu'}), random_state=None))], verbose=False))], flatten_transform=None, weights=[0.5, 0.5]))],\n         verbose=False)\n\nBest Run Transformations:\ndatatransformer\nprefittedsoftvotingclassifier\n\nBest Run Metrics:\nmatthews_correlation 0.9019166830398778\nprecision_score_weighted 0.9557985656019985\nprecision_score_macro 0.9519079326539872\nf1_score_micro 0.955872594558726\naverage_precision_score_micro 0.9922011861395298\nf1_score_macro 0.9509479182459594\naccuracy 0.955872594558726\nlog_loss 0.11140536433683812\nrecall_score_weighted 0.955872594558726\nf1_score_weighted 0.955826183996616\naverage_precision_score_weighted 0.991886869621659\naverage_precision_score_macro 0.990370929681891\nbalanced_accuracy 0.9500107457554265\nweighted_accuracy 0.960683074806656\nAUC_weighted 0.9912387902233164\nrecall_score_micro 0.955872594558726\nnorm_macro_recall 0.9000214915108531\nrecall_score_macro 0.9500107457554265\nAUC_macro 0.9912387902233164\nprecision_score_micro 0.955872594558726\nAUC_micro 0.9920696339004574\naccuracy_table aml://artifactId/ExperimentRun/dcid.AutoML_d3f8b2e3-e05a-4372-809d-2de07a085b5e_2/accuracy_table\nconfusion_matrix aml://artifactId/ExperimentRun/dcid.AutoML_d3f8b2e3-e05a-4372-809d-2de07a085b5e_2/confusion_matrix\n"
        }
      ],
      "execution_count": 8,
      "metadata": {
        "gather": {
          "logged": 1661015238255
        },
        "jupyter": {
          "outputs_hidden": false,
          "source_hidden": false
        },
        "nteract": {
          "transient": {
            "deleting": false
          }
        }
      }
    },
    {
      "cell_type": "code",
      "source": [
        "from azureml.core import Model\r\n",
        "#TODO: Save the best model\r\n",
        "\r\n",
        "\r\n",
        "# Register model\r\n",
        "myModel =best_run.register_model(model_path='outputs/model.pkl', model_name='diabetes_cap_model',\r\n",
        "                        tags={'Training context':'Auto ML'},\r\n",
        "                        properties={'AUC': best_run_metrics['AUC_weighted'], 'Accuracy': best_run_metrics['accuracy']})\r\n",
        "\r\n",
        "\r\n",
        "# List registered models\r\n",
        "for model in Model.list(ws):\r\n",
        "    print(model.name, 'version:', model.version)\r\n",
        "    for tag_name in model.tags:\r\n",
        "        tag = model.tags[tag_name]\r\n",
        "        print ('\\t',tag_name, ':', tag)\r\n",
        "    for prop_name in model.properties:\r\n",
        "        prop = model.properties[prop_name]\r\n",
        "        print ('\\t',prop_name, ':', prop)\r\n",
        "    print('\\n')                        "
      ],
      "outputs": [
        {
          "output_type": "stream",
          "name": "stdout",
          "text": "diabetes_cap_model version: 1\n\t Training context : Auto ML\n\t AUC : 0.9912387902233164\n\t Accuracy : 0.955872594558726\n\n\n"
        }
      ],
      "execution_count": 9,
      "metadata": {
        "gather": {
          "logged": 1661015239319
        },
        "jupyter": {
          "outputs_hidden": false,
          "source_hidden": false
        },
        "nteract": {
          "transient": {
            "deleting": false
          }
        }
      }
    },
    {
      "cell_type": "markdown",
      "source": [
        "## Model Deployment\n",
        "\n",
        "Remember you have to deploy only one of the two models you trained but you still need to register both the models. Perform the steps in the rest of this notebook only if you wish to deploy this model.\n",
        "\n",
        "TODO: In the cell below, register the model, create an inference config and deploy the model as a web service."
      ],
      "metadata": {}
    },
    {
      "cell_type": "code",
      "source": [
        "model = ws.models['diabetes_cap_model']\r\n",
        "print(model.name, 'version', model.version)\r\n"
      ],
      "outputs": [
        {
          "output_type": "stream",
          "name": "stdout",
          "text": "diabetes_cap_model version 1\n"
        }
      ],
      "execution_count": 10,
      "metadata": {
        "jupyter": {
          "source_hidden": false,
          "outputs_hidden": false
        },
        "nteract": {
          "transient": {
            "deleting": false
          }
        },
        "gather": {
          "logged": 1661015239630
        }
      }
    },
    {
      "cell_type": "code",
      "source": [
        "# Download scoring file \r\n",
        "best_run.download_file('outputs/scoring_file_v_1_0_0.py', 'scoreScript.py')\r\n",
        "\r\n",
        "# Download environment file\r\n",
        "best_run.download_file('outputs/conda_env_v_1_0_0.yml', 'envFile.yml')"
      ],
      "outputs": [],
      "execution_count": 11,
      "metadata": {
        "jupyter": {
          "source_hidden": false,
          "outputs_hidden": false
        },
        "nteract": {
          "transient": {
            "deleting": false
          }
        },
        "gather": {
          "logged": 1661015239893
        }
      }
    },
    {
      "cell_type": "code",
      "source": [
        "from azureml.core.environment import Environment\r\n",
        "from azureml.core.model import InferenceConfig\r\n",
        "\r\n",
        "inference_config = InferenceConfig(entry_script='scoreScript.py',\r\n",
        "                                    environment=best_run.get_environment())\r\n",
        "\r\n",
        "# deploy\r\n",
        "from azureml.core.webservice import AciWebservice\r\n",
        "\r\n",
        "deployment_config = AciWebservice.deploy_configuration(cpu_cores = 1, memory_gb = 1)\r\n",
        "service = Model.deploy(ws, \"dservice\", [myModel], inference_config, deployment_config)\r\n",
        "service.wait_for_deployment(show_output = True)\r\n",
        "print(service.state)\r\n",
        "\r\n",
        "print(service.scoring_uri)\r\n",
        "\r\n",
        "print(service.swagger_uri)"
      ],
      "outputs": [
        {
          "output_type": "stream",
          "name": "stdout",
          "text": "Tips: You can try get_logs(): https://aka.ms/debugimage#dockerlog or local deployment: https://aka.ms/debugimage#debug-locally to debug if deployment takes longer than 10 minutes.\nRunning\n2022-08-20 17:07:22+00:00 Creating Container Registry if not exists..\n2022-08-20 17:17:23+00:00 Registering the environment..\n2022-08-20 17:17:24+00:00 Use the existing image.\n2022-08-20 17:17:25+00:00 Submitting deployment to compute.\n2022-08-20 17:17:28+00:00 Checking the status of deployment dservice..\n2022-08-20 17:22:07+00:00 Checking the status of inference endpoint dservice.\nSucceeded\nACI service creation operation finished, operation \"Succeeded\"\nHealthy\nhttp://e8804f02-c94f-4c5d-842d-ca6dd91bdf29.southcentralus.azurecontainer.io/score\nhttp://e8804f02-c94f-4c5d-842d-ca6dd91bdf29.southcentralus.azurecontainer.io/swagger.json\n"
        },
        {
          "output_type": "stream",
          "name": "stderr",
          "text": "WARNING:urllib3.connectionpool:Retrying (Retry(total=2, connect=3, read=2, redirect=None, status=None)) after connection broken by 'ProtocolError('Connection aborted.', ConnectionResetError(104, 'Connection reset by peer'))': /history/v1.0/subscriptions/cdbe0b43-92a0-4715-838a-f2648cc7ad21/resourceGroups/aml-quickstarts-204721/providers/Microsoft.MachineLearningServices/workspaces/quick-starts-ws-204721/experimentids/fcb672d7-babb-4006-a6eb-7709048c996f/runs/AutoML_d3f8b2e3-e05a-4372-809d-2de07a085b5e\n"
        }
      ],
      "execution_count": 12,
      "metadata": {
        "jupyter": {
          "source_hidden": false,
          "outputs_hidden": false
        },
        "nteract": {
          "transient": {
            "deleting": false
          }
        },
        "gather": {
          "logged": 1661016159558
        }
      }
    },
    {
      "cell_type": "markdown",
      "source": [
        "TODO: In the cell below, send a request to the web service you deployed to test it."
      ],
      "metadata": {
        "collapsed": true,
        "gather": {
          "logged": 1598431657736
        },
        "jupyter": {
          "outputs_hidden": false,
          "source_hidden": false
        },
        "nteract": {
          "transient": {
            "deleting": false
          }
        }
      }
    },
    {
      "cell_type": "code",
      "source": [
        "endpoint = 'http://a1759612-06f7-495b-8d28-175608452efd.southcentralus.azurecontainer.io/score'\r\n",
        "key = 'TnMjFn1ohCLcmyx3BSqop6E34Enp3ZHN' \r\n",
        "\r\n",
        "import json\r\n",
        "import requests\r\n",
        "\r\n",
        "#Features for a patient\r\n",
        "data = {\r\n",
        "  \"Inputs\": {\r\n",
        "    \"data\": [\r\n",
        "      {\"PatientID\": 1,\r\n",
        "      \"Pregnancies\": 5,\r\n",
        "      \"PlasmaGlucose\": 181.0,\r\n",
        "      \"DiastolicBloodPressure\": 90.6,\r\n",
        "      \"TricepsThickness\": 34.0,\r\n",
        "      \"SerumInsulin\": 23.0,\r\n",
        "      \"BMI\": 43.51,\r\n",
        "      \"DiabetesPedigree\": 1.21,\r\n",
        "      \"Age\": 21.0\r\n",
        "      }\r\n",
        "    ]\r\n",
        "  }\r\n",
        "}\r\n",
        "\r\n",
        "#Create a \"data\" JSON object\r\n",
        "body = str.encode(json.dumps(data))\r\n",
        "\r\n",
        "#Set the content type and authentication for the request\r\n",
        "headers = {\"Content-Type\":\"application/json\",\r\n",
        "           \"Authorization\":\"Bearer \" + key}\r\n",
        "\r\n",
        "#Send the request\r\n",
        "response = requests.post(endpoint, body, headers=headers)\r\n",
        "\r\n",
        "#If we got a valid response, display the predictions\r\n",
        "if response.status_code == 200:\r\n",
        "    y = response.json()\r\n",
        "    #Get the first prediction in the results\r\n",
        "    if y[\"Results\"][0] == 1:\r\n",
        "        print('Diabetic')\r\n",
        "    else:\r\n",
        "        print(\"Not Diabetic\")\r\n",
        "else:\r\n",
        "    print(response)"
      ],
      "outputs": [
        {
          "output_type": "stream",
          "name": "stdout",
          "text": "Diabetic\n"
        }
      ],
      "execution_count": 14,
      "metadata": {
        "gather": {
          "logged": 1661017342897
        },
        "jupyter": {
          "outputs_hidden": false,
          "source_hidden": false
        },
        "nteract": {
          "transient": {
            "deleting": false
          }
        }
      }
    },
    {
      "cell_type": "markdown",
      "source": [
        "TODO: In the cell below, print the logs of the web service and delete the service"
      ],
      "metadata": {
        "collapsed": true,
        "gather": {
          "logged": 1598432765711
        },
        "jupyter": {
          "outputs_hidden": false,
          "source_hidden": false
        },
        "nteract": {
          "transient": {
            "deleting": false
          }
        }
      }
    },
    {
      "cell_type": "code",
      "source": [
        "print(service.get_logs())"
      ],
      "outputs": [
        {
          "output_type": "stream",
          "name": "stdout",
          "text": "2022-08-20T17:21:58,317284300+00:00 - rsyslog/run \n2022-08-20T17:21:58,333459700+00:00 - iot-server/run \n2022-08-20T17:21:58,335404800+00:00 - nginx/run \n2022-08-20T17:21:58,335055400+00:00 - gunicorn/run \n2022-08-20T17:21:58,346348500+00:00 | gunicorn/run | \n2022-08-20T17:21:58,379922300+00:00 | gunicorn/run | ###############################################\n2022-08-20T17:21:58,390185800+00:00 | gunicorn/run | AzureML Container Runtime Information\n2022-08-20T17:21:58,400626200+00:00 | gunicorn/run | ###############################################\n2022-08-20T17:21:58,401961700+00:00 | gunicorn/run | \n2022-08-20T17:21:58,412917300+00:00 | gunicorn/run | \n2022-08-20T17:21:58,438306500+00:00 | gunicorn/run | AzureML image information: openmpi3.1.2-ubuntu18.04, Materializaton Build:20220729.v6\n2022-08-20T17:21:58,447158900+00:00 | gunicorn/run | \n2022-08-20T17:21:58,455086700+00:00 | gunicorn/run | \n2022-08-20T17:21:58,460956700+00:00 | gunicorn/run | PATH environment variable: /azureml-envs/azureml_9975936e1ed0dc1285f5f882f1e4485b/bin:/opt/miniconda/bin:/usr/local/sbin:/usr/local/bin:/usr/sbin:/usr/bin:/sbin:/bin\n2022-08-20T17:21:58,463083500+00:00 | gunicorn/run | PYTHONPATH environment variable: \n2022-08-20T17:21:58,481322500+00:00 | gunicorn/run | \n2022-08-20T17:21:58,483801200+00:00 | gunicorn/run | Pip Dependencies (before dynamic installation)\n\nEdgeHubConnectionString and IOTEDGE_IOTHUBHOSTNAME are not set. Exiting...\n2022-08-20T17:21:58,888869400+00:00 - iot-server/finish 1 0\n2022-08-20T17:21:58,895116500+00:00 - Exit code 1 is normal. Not restarting iot-server.\nadal==1.2.7\napplicationinsights==0.11.10\nargcomplete==2.0.0\narviz @ file:///tmp/build/80754af9/arviz_1614019183254/work\nattrs==22.1.0\nazure-common==1.1.28\nazure-core==1.24.2\nazure-graphrbac==0.61.1\nazure-identity==1.10.0\nazure-mgmt-authorization==2.0.0\nazure-mgmt-containerregistry==10.0.0\nazure-mgmt-core==1.3.1\nazure-mgmt-keyvault==10.0.0\nazure-mgmt-resource==21.1.0\nazure-mgmt-storage==20.0.0\nazure-storage-blob==12.9.0\nazure-storage-queue==12.4.0\nazureml-automl-core==1.44.0\nazureml-automl-runtime==1.44.0\nazureml-core==1.44.0\nazureml-dataprep==4.2.2\nazureml-dataprep-native==38.0.0\nazureml-dataprep-rslex==2.8.1\nazureml-dataset-runtime==1.44.0\nazureml-defaults==1.44.0\nazureml-inference-server-http==0.7.4\nazureml-interpret==1.44.0\nazureml-mlflow==1.44.0\nazureml-pipeline-core==1.44.0\nazureml-responsibleai==1.44.0\nazureml-telemetry==1.44.0\nazureml-train-automl-client==1.44.0\nazureml-train-automl-runtime==1.44.0\nazureml-train-core==1.44.0\nazureml-train-restclients-hyperdrive==1.44.0\nazureml-training-tabular==1.44.0\nbackcall==0.2.0\nbackports.tempfile==1.0\nbackports.weakref==1.0.post1\nbcrypt==3.2.2\nbokeh==2.4.3\nboto==2.49.0\nboto3==1.15.18\nbotocore==1.18.18\ncachetools==5.2.0\ncertifi @ file:///opt/conda/conda-bld/certifi_1655968806487/work/certifi\ncffi==1.15.1\ncftime @ file:///tmp/build/80754af9/cftime_1638345281172/work\ncharset-normalizer==2.1.0\nclick==7.1.2\ncloudpickle==1.6.0\nconfigparser==3.7.4\ncontextlib2==21.6.0\nconvertdate @ file:///tmp/build/80754af9/convertdate_1634070773133/work\ncryptography==37.0.4\ncycler @ file:///tmp/build/80754af9/cycler_1637851556182/work\nCython @ file:///tmp/build/80754af9/cython_1647850341668/work\ndask==2.30.0\ndatabricks-cli==0.17.0\ndataclasses==0.6\ndebugpy==1.6.2\ndecorator==5.1.1\ndice-ml==0.8\ndill==0.3.5.1\ndistributed==2.30.1\ndistro==1.7.0\ndocker==5.0.3\ndotnetcore2==3.1.23\ndowhy==0.8\neconml==0.12.0\nentrypoints==0.4\nephem @ file:///tmp/build/80754af9/ephem_1638960312619/work\nerroranalysis==0.3.6\nfairlearn==0.7.0\nfbprophet @ file:///home/conda/feedstock_root/build_artifacts/fbprophet_1599365534439/work\nfire==0.4.0\nFlask==2.1.3\nFlask-Cors==3.0.10\nflatbuffers==2.0\nfonttools==4.25.0\nfsspec==2022.7.1\ngensim==3.8.3\ngitdb==4.0.9\nGitPython==3.1.27\ngoogle-api-core==2.8.2\ngoogle-auth==2.9.1\ngoogleapis-common-protos==1.56.4\ngunicorn==20.1.0\nh5py==3.7.0\nHeapDict==1.0.1\nholidays @ file:///home/conda/feedstock_root/build_artifacts/holidays_1595448845196/work\nhumanfriendly==10.0\nidna==3.3\nimportlib-metadata==4.12.0\nimportlib-resources==5.9.0\ninference-schema==1.4.1\ninterpret-community==0.26.0\ninterpret-core==0.2.7\nipykernel==6.6.0\nipython==7.34.0\nisodate==0.6.1\nitsdangerous==2.1.2\njedi==0.18.1\njeepney==0.8.0\nJinja2==2.11.2\njmespath==1.0.0\njoblib==0.14.1\njson-logging-py==0.2\njsonpickle==2.2.0\njsonschema==4.9.1\njupyter-client==7.3.4\njupyter-core==4.11.1\nkeras2onnx==1.6.0\nkiwisolver @ file:///opt/conda/conda-bld/kiwisolver_1653292039266/work\nknack==0.9.0\nkorean-lunar-calendar @ file:///tmp/build/80754af9/korean_lunar_calendar_1634063020401/work\nlightgbm==3.2.1\nllvmlite==0.38.1\nlocket==1.0.0\nLunarCalendar @ file:///tmp/build/80754af9/lunarcalendar_1646383991234/work\nMarkupSafe==2.0.1\nmatplotlib @ file:///tmp/build/80754af9/matplotlib-suite_1634667019719/work\nmatplotlib-inline==0.1.3\nmkl-fft==1.3.0\nmkl-random==1.1.0\nmkl-service==2.3.0\nml-wrappers==0.2.0\nmlflow-skinny==1.27.0\nmpi4py==3.1.3\nmpmath==1.2.1\nmsal==1.18.0\nmsal-extensions==1.0.0\nmsgpack==1.0.4\nmsrest==0.7.1\nmsrestazure==0.6.4\nmunkres==1.1.4\nndg-httpsclient==0.5.1\nnest-asyncio==1.5.5\nnetCDF4==1.5.7\nnetworkx==2.5\nnimbusml==1.8.0\nnumba==0.55.2\nnumpy==1.18.5\noauthlib==3.2.0\nonnx==1.12.0\nonnxconverter-common==1.6.0\nonnxmltools==1.4.1\nonnxruntime==1.11.1\nopencensus==0.10.0\nopencensus-context==0.1.2\nopencensus-ext-azure==1.1.5\npackaging @ file:///tmp/build/80754af9/packaging_1637314298585/work\npandas==1.1.5\nparamiko==2.11.0\nparso==0.8.3\npartd==1.2.0\npathspec==0.9.0\npatsy==0.5.2\npexpect==4.8.0\npickleshare==0.7.5\nPillow==9.0.1\npkginfo==1.8.3\npkgutil-resolve-name==1.3.10\npmdarima==1.7.1\nportalocker==2.5.1\nprompt-toolkit==3.0.30\nprotobuf==3.20.1\npsutil @ file:///tmp/build/80754af9/psutil_1612298016854/work\nptyprocess==0.7.0\npy-cpuinfo==5.0.0\npyarrow==6.0.0\npyasn1==0.4.8\npyasn1-modules==0.2.8\npycparser==2.21\npydot==1.4.2\nPygments==2.12.0\nPyJWT==2.4.0\nPyMeeus @ file:///tmp/build/80754af9/pymeeus_1634069098549/work\nPyNaCl==1.5.0\npyOpenSSL==22.0.0\npyparsing @ file:///tmp/build/80754af9/pyparsing_1635766073266/work\npyrsistent==0.18.1\nPySocks==1.7.1\npystan @ file:///tmp/build/80754af9/pystan_1613565226242/work\npython-dateutil @ file:///tmp/build/80754af9/python-dateutil_1626374649649/work\npytz @ file:///opt/conda/conda-bld/pytz_1654762638606/work\nPyYAML==6.0\npyzmq==23.2.0\nraiutils==0.2.0\nrequests==2.28.1\nrequests-oauthlib==1.3.1\nresponsibleai==0.19.0\nrsa==4.9\ns3transfer==0.3.7\nscikit-learn==0.22.1\nscipy==1.5.3\nSecretStorage==3.3.2\nsemver==2.13.0\nsetuptools-git==1.2\nshap==0.39.0\nsix @ file:///tmp/build/80754af9/six_1644875935023/work\nskl2onnx==1.4.9\nsklearn-pandas==1.7.0\nslicer==0.0.7\nsmart-open==1.9.0\nsmmap==5.0.0\nsortedcontainers==2.4.0\nsparse==0.13.0\nstatsmodels==0.11.1\nsympy==1.10.1\ntabulate==0.8.10\ntblib==1.7.0\ntermcolor==1.1.0\ntoolz==0.12.0\ntornado @ file:///tmp/build/80754af9/tornado_1606942283357/work\ntqdm @ file:///opt/conda/conda-bld/tqdm_1650891076910/work\ntraitlets==5.3.0\ntyping-extensions @ file:///opt/conda/conda-bld/typing_extensions_1647553014482/work\nurllib3==1.26.9\nwcwidth==0.2.5\nwebsocket-client==1.3.3\nWerkzeug==2.2.1\nwrapt==1.12.1\nxarray @ file:///opt/conda/conda-bld/xarray_1639166117697/work\nxgboost==1.3.3\nzict==2.2.0\nzipp==3.8.1\n\n2022-08-20T17:22:00,396310005+00:00 | gunicorn/run | \n2022-08-20T17:22:00,401944643+00:00 | gunicorn/run | ###############################################\n2022-08-20T17:22:00,403498059+00:00 | gunicorn/run | AzureML Inference Server\n2022-08-20T17:22:00,405178491+00:00 | gunicorn/run | ###############################################\n2022-08-20T17:22:00,411201883+00:00 | gunicorn/run | \n2022-08-20T17:22:04,340265497+00:00 | gunicorn/run | Starting AzureML Inference Server HTTP.\n\nAzure ML Inferencing HTTP server v0.7.4\n\n\nServer Settings\n---------------\nEntry Script Name: main.py\nModel Directory: /var/azureml-app/azureml-models/diabetes_cap_model/1\nWorker Count: 1\nWorker Timeout (seconds): 300\nServer Port: 31311\nApplication Insights Enabled: false\nApplication Insights Key: None\nInferencing HTTP server version: azmlinfsrv/0.7.4\nCORS for the specified origins: None\n\n\nServer Routes\n---------------\nLiveness Probe: GET   127.0.0.1:31311/\nScore:          POST  127.0.0.1:31311/score\n\nStarting gunicorn 20.1.0\nListening at: http://0.0.0.0:31311 (75)\nUsing worker: sync\nBooting worker with pid: 131\nInitializing logger\n2022-08-20 17:22:08,810 | root | INFO | Starting up app insights client\nlogging socket was found. logging is available.\nlogging socket was found. logging is available.\n2022-08-20 17:22:08,829 | root | INFO | Starting up app insight hooks\n2022-08-20 17:22:11,487 | root | INFO | Found driver script at /var/azureml-app/main.py and the score script at /var/azureml-app/scoreScript.py\n2022-08-20 17:22:11,487 | root | INFO | run() is decorated with @input_schema. Server will invoke it with the following arguments: data, method.\n2022-08-20 17:22:11,488 | root | INFO | Invoking user's init function\n2022-08-20 17:22:20,831 | azureml.core | WARNING | Failure while loading azureml_run_type_providers. Failed to load entrypoint automl = azureml.train.automl.run:AutoMLRun._from_run_dto with exception (azure-identity 1.10.0 (/azureml-envs/azureml_9975936e1ed0dc1285f5f882f1e4485b/lib/python3.7/site-packages), Requirement.parse('azure-identity==1.7.0'), {'azureml-dataprep'}).\nFailure while loading azureml_run_type_providers. Failed to load entrypoint automl = azureml.train.automl.run:AutoMLRun._from_run_dto with exception (azure-identity 1.10.0 (/azureml-envs/azureml_9975936e1ed0dc1285f5f882f1e4485b/lib/python3.7/site-packages), Requirement.parse('azure-identity==1.7.0'), {'azureml-dataprep'}).\n00000000-0000-0000-0000-000000000000,RuntimeError\n00000000-0000-0000-0000-000000000000,:\n00000000-0000-0000-0000-000000000000,module compiled against API version 0xe but this version of numpy is 0xd\n00000000-0000-0000-0000-000000000000,ImportError\n00000000-0000-0000-0000-000000000000,:\n00000000-0000-0000-0000-000000000000,numpy.core.multiarray failed to import\n00000000-0000-0000-0000-000000000000,\nThe above exception was the direct cause of the following exception:\n00000000-0000-0000-0000-000000000000,SystemError\n00000000-0000-0000-0000-000000000000,:\n00000000-0000-0000-0000-000000000000,<built-in function __import__> returned a result with an error set\n2022-08-20 17:22:22,868 | root | INFO | Users's init has completed successfully\n2022-08-20 17:22:22,870 | root | INFO | Swaggers are prepared for the following versions: [2, 3].\n2022-08-20 17:22:22,871 | root | INFO | Scoring timeout is found from os.environ: 60000 ms\n2022-08-20 17:22:22,876 | root | INFO | AML_FLASK_ONE_COMPATIBILITY is set. Patched Flask to ensure compatibility with Flask 1.\n2022-08-20 17:22:34,558 | root | INFO | 200\n127.0.0.1 - - [20/Aug/2022:17:22:34 +0000] \"GET /swagger.json HTTP/1.0\" 200 3340 \"-\" \"Go-http-client/1.1\"\n2022-08-20 17:22:39,127 | root | INFO | 200\n127.0.0.1 - - [20/Aug/2022:17:22:39 +0000] \"GET /swagger.json HTTP/1.0\" 200 3340 \"-\" \"Go-http-client/1.1\"\n2022-08-20 17:24:56,305 | root | INFO | 200\n127.0.0.1 - - [20/Aug/2022:17:24:56 +0000] \"GET /swagger.json HTTP/1.0\" 200 3340 \"-\" \"Go-http-client/1.1\"\n2022-08-20 17:25:36,867 | root | INFO | 200\n127.0.0.1 - - [20/Aug/2022:17:25:36 +0000] \"GET /swagger.json HTTP/1.0\" 200 3340 \"-\" \"Go-http-client/1.1\"\n2022-08-20 17:25:41,372 | root | INFO | 200\n127.0.0.1 - - [20/Aug/2022:17:25:41 +0000] \"GET /swagger.json HTTP/1.0\" 200 3340 \"-\" \"Go-http-client/1.1\"\n2022-08-20 17:25:56,303 | root | INFO | 200\n127.0.0.1 - - [20/Aug/2022:17:25:56 +0000] \"GET /swagger.json HTTP/1.0\" 200 3340 \"-\" \"Go-http-client/1.1\"\n127.0.0.1 - - [20/Aug/2022:17:34:37 +0000] \"GET /favicon.ico HTTP/1.0\" 404 127 \"-\" \"Mozilla/5.0 (Macintosh; Intel Mac OS X 10_15_7) AppleWebKit/537.36 (KHTML, like Gecko) Chrome/96.0.4664.110 Safari/537.36\"\n\n"
        }
      ],
      "execution_count": 15,
      "metadata": {
        "jupyter": {
          "outputs_hidden": false,
          "source_hidden": false
        },
        "nteract": {
          "transient": {
            "deleting": false
          }
        },
        "gather": {
          "logged": 1661017357271
        }
      }
    },
    {
      "cell_type": "code",
      "source": [
        "service.delete()"
      ],
      "outputs": [],
      "execution_count": 16,
      "metadata": {
        "jupyter": {
          "source_hidden": false,
          "outputs_hidden": false
        },
        "nteract": {
          "transient": {
            "deleting": false
          }
        },
        "gather": {
          "logged": 1661018342730
        }
      }
    },
    {
      "cell_type": "markdown",
      "source": [
        "**Submission Checklist**\n",
        "- I have registered the model.\n",
        "- I have deployed the model with the best accuracy as a webservice.\n",
        "- I have tested the webservice by sending a request to the model endpoint.\n",
        "- I have deleted the webservice and shutdown all the computes that I have used.\n",
        "- I have taken a screenshot showing the model endpoint as active.\n",
        "- The project includes a file containing the environment details.\n"
      ],
      "metadata": {}
    },
    {
      "cell_type": "markdown",
      "source": [],
      "metadata": {}
    }
  ],
  "metadata": {
    "kernel_info": {
      "name": "python3"
    },
    "kernelspec": {
      "name": "python3",
      "language": "python",
      "display_name": "Python 3 (ipykernel)"
    },
    "language_info": {
      "name": "python",
      "version": "3.8.13",
      "mimetype": "text/x-python",
      "codemirror_mode": {
        "name": "ipython",
        "version": 3
      },
      "pygments_lexer": "ipython3",
      "nbconvert_exporter": "python",
      "file_extension": ".py"
    },
    "nteract": {
      "version": "nteract-front-end@1.0.0"
    },
    "microsoft": {
      "host": {
        "AzureML": {
          "notebookHasBeenCompleted": true
        }
      }
    }
  },
  "nbformat": 4,
  "nbformat_minor": 2
}